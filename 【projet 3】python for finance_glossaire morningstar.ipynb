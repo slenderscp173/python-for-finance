{
 "cells": [
  {
   "cell_type": "code",
   "execution_count": 2,
   "metadata": {
    "scrolled": true
   },
   "outputs": [],
   "source": [
    "from bs4 import BeautifulSoup\n",
    "import pandas as pd \n",
    "import numpy as np\n",
    "from my import *\n",
    "import openpyxl\n",
    "\n"
   ]
  },
  {
   "cell_type": "code",
   "execution_count": 26,
   "metadata": {
    "scrolled": false
   },
   "outputs": [
    {
     "name": "stdout",
     "output_type": "stream",
     "text": [
      "['https://lt.morningstar.com/ls5tb3ppxc/Glossary/default.aspx?LanguageId=fr-FR&group=A', 'https://lt.morningstar.com/ls5tb3ppxc/Glossary/default.aspx?LanguageId=fr-FR&group=B', 'https://lt.morningstar.com/ls5tb3ppxc/Glossary/default.aspx?LanguageId=fr-FR&group=C', 'https://lt.morningstar.com/ls5tb3ppxc/Glossary/default.aspx?LanguageId=fr-FR&group=D', 'https://lt.morningstar.com/ls5tb3ppxc/Glossary/default.aspx?LanguageId=fr-FR&group=E', 'https://lt.morningstar.com/ls5tb3ppxc/Glossary/default.aspx?LanguageId=fr-FR&group=F', 'https://lt.morningstar.com/ls5tb3ppxc/Glossary/default.aspx?LanguageId=fr-FR&group=G', 'https://lt.morningstar.com/ls5tb3ppxc/Glossary/default.aspx?LanguageId=fr-FR&group=H', 'https://lt.morningstar.com/ls5tb3ppxc/Glossary/default.aspx?LanguageId=fr-FR&group=I', 'https://lt.morningstar.com/ls5tb3ppxc/Glossary/default.aspx?LanguageId=fr-FR&group=J', 'https://lt.morningstar.com/ls5tb3ppxc/Glossary/default.aspx?LanguageId=fr-FR&group=K', 'https://lt.morningstar.com/ls5tb3ppxc/Glossary/default.aspx?LanguageId=fr-FR&group=L', 'https://lt.morningstar.com/ls5tb3ppxc/Glossary/default.aspx?LanguageId=fr-FR&group=M', 'https://lt.morningstar.com/ls5tb3ppxc/Glossary/default.aspx?LanguageId=fr-FR&group=N', 'https://lt.morningstar.com/ls5tb3ppxc/Glossary/default.aspx?LanguageId=fr-FR&group=O', 'https://lt.morningstar.com/ls5tb3ppxc/Glossary/default.aspx?LanguageId=fr-FR&group=P', 'https://lt.morningstar.com/ls5tb3ppxc/Glossary/default.aspx?LanguageId=fr-FR&group=Q', 'https://lt.morningstar.com/ls5tb3ppxc/Glossary/default.aspx?LanguageId=fr-FR&group=R', 'https://lt.morningstar.com/ls5tb3ppxc/Glossary/default.aspx?LanguageId=fr-FR&group=S', 'https://lt.morningstar.com/ls5tb3ppxc/Glossary/default.aspx?LanguageId=fr-FR&group=T', 'https://lt.morningstar.com/ls5tb3ppxc/Glossary/default.aspx?LanguageId=fr-FR&group=U', 'https://lt.morningstar.com/ls5tb3ppxc/Glossary/default.aspx?LanguageId=fr-FR&group=V', 'https://lt.morningstar.com/ls5tb3ppxc/Glossary/default.aspx?LanguageId=fr-FR&group=W', 'https://lt.morningstar.com/ls5tb3ppxc/Glossary/default.aspx?LanguageId=fr-FR&group=X', 'https://lt.morningstar.com/ls5tb3ppxc/Glossary/default.aspx?LanguageId=fr-FR&group=Y', 'https://lt.morningstar.com/ls5tb3ppxc/Glossary/default.aspx?LanguageId=fr-FR&group=Z']\n"
     ]
    },
    {
     "name": "stderr",
     "output_type": "stream",
     "text": [
      "/Users/sumail/anaconda3/lib/python3.6/site-packages/bs4/__init__.py:181: UserWarning: No parser was explicitly specified, so I'm using the best available HTML parser for this system (\"lxml\"). This usually isn't a problem, but if you run this code on another system, or in a different virtual environment, it may use a different parser and behave differently.\n",
      "\n",
      "The code that caused this warning is on line 193 of the file /Users/sumail/anaconda3/lib/python3.6/runpy.py. To get rid of this warning, change code that looks like this:\n",
      "\n",
      " BeautifulSoup(YOUR_MARKUP})\n",
      "\n",
      "to this:\n",
      "\n",
      " BeautifulSoup(YOUR_MARKUP, \"lxml\")\n",
      "\n",
      "  markup_type=markup_type))\n"
     ]
    },
    {
     "name": "stdout",
     "output_type": "stream",
     "text": [
      "<class 'list'>\n",
      "<class 'pandas.core.frame.DataFrame'>\n",
      "                    0                                                  1\n",
      "0   Actif net (fonds)  L’actif net d’un fonds est sa valeur calculée ...\n",
      "1     Actif net total  L’actif net total, dans le cas des fonds, corr...\n",
      "2              Action  \\n\\t\\t\\t\\tUne action représente une partie du ...\n",
      "3              Action  Une action est un titre de propriété d’une par...\n",
      "4  Actions ordinaires  Les actions ordinaires sont des titres de prop...\n"
     ]
    }
   ],
   "source": [
    "#二次修改，上面无解\n",
    "\n",
    "import string  #导入string这个模块\n",
    "\n",
    "headers = my_headers()  #fx\n",
    "urls = []\n",
    "for i in string.ascii_uppercase:\n",
    "    url = \"https://lt.morningstar.com/ls5tb3ppxc/Glossary/default.aspx?LanguageId=fr-FR&group={}\".format(i)\n",
    "    urls.append(url)\n",
    "print(urls)\n",
    "\n",
    "name_ = []\n",
    "content_ = []\n",
    "for url in urls:\n",
    "    \"\"\"\n",
    "    获取所有网址链接\n",
    "    \"\"\"\n",
    "    html = demande_html(url, headers).text  #fx\n",
    "    html = BeautifulSoup(html)\n",
    "    name = name + html.find_all(\"dt\")\n",
    "    ######### 订正：因为这里用for循环，i只有一个，所以使用find而不是find_all。否则name.string会报错。但是不用find_all则一条网址只会找到第一个标签。\n",
    "\n",
    "    #print(name.string)\n",
    "    #print(type(name.text))\n",
    "    content = content + html.find_all('dd')\n",
    "    #print(content)\n",
    "    \n",
    "    \n",
    "dicall=[]\n",
    "for x, y in zip(name, content):\n",
    "    if name is not None and content is not None:\n",
    "        dic=(x.get_text(),y.get_text())\n",
    "        dicall.append(dic)\n",
    "#print(dicall)\n",
    "print(type(dicall))\n",
    "dicall=pd.DataFrame(dicall)\n",
    "print(type(dicall))\n",
    "print(dicall.head())\n",
    "dicall.to_excel(r'export/finance_dictionary.xlsx',sheet_name=\"dicall\")\n",
    "#         name_.append(x.text)\n",
    "#         content_.append(y.text)\n",
    "#         dictionary1 = pd.concat([dictionary1, pd.DataFrame(name_)])\n",
    "#         dictionary2 = pd.concat([dictionary2, pd.DataFrame(content_)])\n",
    "# dictionary1\n",
    "# dictionary = pd.merge(dictionary1, dictionary2,left_on='')\n",
    "# print(dictionary)"
   ]
  },
  {
   "cell_type": "code",
   "execution_count": 27,
   "metadata": {},
   "outputs": [
    {
     "ename": "SyntaxError",
     "evalue": "invalid syntax (<ipython-input-27-c76998e3b23a>, line 4)",
     "output_type": "error",
     "traceback": [
      "\u001b[0;36m  File \u001b[0;32m\"<ipython-input-27-c76998e3b23a>\"\u001b[0;36m, line \u001b[0;32m4\u001b[0m\n\u001b[0;31m    print(https://lt.morningstar.com/ls5tb3ppxc/Glossary/default.aspx?LanguageId=fr-FR&group=K)\u001b[0m\n\u001b[0m               ^\u001b[0m\n\u001b[0;31mSyntaxError\u001b[0m\u001b[0;31m:\u001b[0m invalid syntax\n"
     ]
    }
   ],
   "source": [
    "#网址复制\n",
    "# https://lt.morningstar.com/ls5tb3ppxc/Glossary/default.aspx?LanguageId=fr-FR&group=%2B\n",
    "# https://lt.morningstar.com/ls5tb3ppxc/Glossary/default.aspx?LanguageId=fr-FR&group=A\n",
    "print(https://lt.morningstar.com/ls5tb3ppxc/Glossary/default.aspx?LanguageId=fr-FR&group=K)"
   ]
  },
  {
   "cell_type": "code",
   "execution_count": 7,
   "metadata": {
    "scrolled": true
   },
   "outputs": [
    {
     "data": {
      "text/html": [
       "<div>\n",
       "<style scoped>\n",
       "    .dataframe tbody tr th:only-of-type {\n",
       "        vertical-align: middle;\n",
       "    }\n",
       "\n",
       "    .dataframe tbody tr th {\n",
       "        vertical-align: top;\n",
       "    }\n",
       "\n",
       "    .dataframe thead th {\n",
       "        text-align: right;\n",
       "    }\n",
       "</style>\n",
       "<table border=\"1\" class=\"dataframe\">\n",
       "  <thead>\n",
       "    <tr style=\"text-align: right;\">\n",
       "      <th></th>\n",
       "      <th>code</th>\n",
       "      <th>occupation</th>\n",
       "      <th>rank</th>\n",
       "      <th>new_code</th>\n",
       "      <th>sex</th>\n",
       "    </tr>\n",
       "  </thead>\n",
       "  <tbody>\n",
       "    <tr>\n",
       "      <th>0</th>\n",
       "      <td>0.0</td>\n",
       "      <td>a</td>\n",
       "      <td>1.0</td>\n",
       "      <td>0</td>\n",
       "      <td>f</td>\n",
       "    </tr>\n",
       "    <tr>\n",
       "      <th>1</th>\n",
       "      <td>1.0</td>\n",
       "      <td>b</td>\n",
       "      <td>2.0</td>\n",
       "      <td>1</td>\n",
       "      <td>m</td>\n",
       "    </tr>\n",
       "    <tr>\n",
       "      <th>2</th>\n",
       "      <td>2.0</td>\n",
       "      <td>d</td>\n",
       "      <td>4.0</td>\n",
       "      <td>2</td>\n",
       "      <td>m</td>\n",
       "    </tr>\n",
       "    <tr>\n",
       "      <th>3</th>\n",
       "      <td>3.0</td>\n",
       "      <td>f</td>\n",
       "      <td>3.0</td>\n",
       "      <td>3</td>\n",
       "      <td>m</td>\n",
       "    </tr>\n",
       "    <tr>\n",
       "      <th>4</th>\n",
       "      <td>NaN</td>\n",
       "      <td>NaN</td>\n",
       "      <td>NaN</td>\n",
       "      <td>4</td>\n",
       "      <td>f</td>\n",
       "    </tr>\n",
       "    <tr>\n",
       "      <th>5</th>\n",
       "      <td>NaN</td>\n",
       "      <td>NaN</td>\n",
       "      <td>NaN</td>\n",
       "      <td>5</td>\n",
       "      <td>f</td>\n",
       "    </tr>\n",
       "  </tbody>\n",
       "</table>\n",
       "</div>"
      ],
      "text/plain": [
       "   code occupation  rank  new_code sex\n",
       "0   0.0          a   1.0         0   f\n",
       "1   1.0          b   2.0         1   m\n",
       "2   2.0          d   4.0         2   m\n",
       "3   3.0          f   3.0         3   m\n",
       "4   NaN        NaN   NaN         4   f\n",
       "5   NaN        NaN   NaN         5   f"
      ]
     },
     "execution_count": 7,
     "metadata": {},
     "output_type": "execute_result"
    }
   ],
   "source": [
    "#dataframe回顾\n",
    "df1 = pd.DataFrame({'code': [0, 1, 2, 3], 'rank': [1, 2, 4, 3], 'occupation': ['a', 'b', 'd', 'f']}) \n",
    "df2 = pd.DataFrame({'sex': ['f', 'm', 'm', 'm', 'f', 'f'], 'new_code': [0, 1, 2, 3, 4, 5]}) \n",
    "pd.merge(df1, df2, left_on='code', right_on='new_code', how='outer')"
   ]
  }
 ],
 "metadata": {
  "kernelspec": {
   "display_name": "Python 3",
   "language": "python",
   "name": "python3"
  },
  "language_info": {
   "codemirror_mode": {
    "name": "ipython",
    "version": 3
   },
   "file_extension": ".py",
   "mimetype": "text/x-python",
   "name": "python",
   "nbconvert_exporter": "python",
   "pygments_lexer": "ipython3",
   "version": "3.6.4"
  },
  "toc": {
   "base_numbering": 1,
   "nav_menu": {},
   "number_sections": true,
   "sideBar": true,
   "skip_h1_title": false,
   "title_cell": "Table of Contents",
   "title_sidebar": "Contents",
   "toc_cell": false,
   "toc_position": {},
   "toc_section_display": true,
   "toc_window_display": false
  }
 },
 "nbformat": 4,
 "nbformat_minor": 2
}
